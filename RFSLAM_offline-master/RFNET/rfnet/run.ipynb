{
 "cells": [
  {
   "cell_type": "markdown",
   "metadata": {},
   "source": [
    "#  run the lfnet"
   ]
  },
  {
   "cell_type": "code",
   "execution_count": 1,
   "metadata": {
    "ExecuteTime": {
     "end_time": "2018-10-26T09:09:42.343545Z",
     "start_time": "2018-10-26T09:09:42.165052Z"
    },
    "scrolled": false
   },
   "outputs": [],
   "source": [
    "import cv2\n",
    "import os\n",
    "import tqdm\n",
    "import torch\n",
    "import random\n",
    "import argparse\n",
    "import numpy as np\n",
    "\n",
    "from utils.common_utils import gct\n",
    "from utils.eval_utils import nearest_neighbor_distance_ratio_match\n",
    "from model.rf_des import HardNetNeiMask\n",
    "from model.rf_det_so import RFDetSO\n",
    "from model.rf_net_so import RFNetSO\n",
    "from config import cfg"
   ]
  },
  {
   "cell_type": "code",
   "execution_count": 2,
   "metadata": {},
   "outputs": [
    {
     "name": "stdout",
     "output_type": "stream",
     "text": [
      "08-17 14:32:11 : start time\n",
      "08-17 14:32:11 : model init\n",
      "08-17 14:32:11 : to device\n",
      "08-17 14:32:13 : in ../runs/10_24_09_25/model/e121_NN_0.480_NNT_0.655_NNDR_0.813_MeanMS_0.649.pth.tar\n"
     ]
    }
   ],
   "source": [
    "print(f\"{gct()} : start time\")\n",
    "\n",
    "random.seed(cfg.PROJ.SEED)\n",
    "torch.manual_seed(cfg.PROJ.SEED)\n",
    "np.random.seed(cfg.PROJ.SEED)\n",
    "\n",
    "print(f\"{gct()} : model init\")\n",
    "det = RFDetSO(\n",
    "    cfg.TRAIN.score_com_strength,\n",
    "    cfg.TRAIN.scale_com_strength,\n",
    "    cfg.TRAIN.NMS_THRESH,\n",
    "    cfg.TRAIN.NMS_KSIZE,\n",
    "    cfg.TRAIN.TOPK,\n",
    "    cfg.MODEL.GAUSSIAN_KSIZE,\n",
    "    cfg.MODEL.GAUSSIAN_SIGMA,\n",
    "    cfg.MODEL.KSIZE,\n",
    "    cfg.MODEL.padding,\n",
    "    cfg.MODEL.dilation,\n",
    "    cfg.MODEL.scale_list,\n",
    ")\n",
    "des = HardNetNeiMask(cfg.HARDNET.MARGIN, cfg.MODEL.COO_THRSH)\n",
    "model = RFNetSO(\n",
    "    det, des, cfg.LOSS.SCORE, cfg.LOSS.PAIR, cfg.PATCH.SIZE, cfg.TRAIN.TOPK\n",
    ")\n",
    "\n",
    "print(f\"{gct()} : to device\")\n",
    "device = torch.device(\"cuda\")\n",
    "model = model.to(device)\n",
    "resume = \"../runs/10_24_09_25/model/e121_NN_0.480_NNT_0.655_NNDR_0.813_MeanMS_0.649.pth.tar\"\n",
    "print(f\"{gct()} : in {resume}\")\n",
    "checkpoint = torch.load(resume)\n",
    "model.load_state_dict(checkpoint[\"state_dict\"])"
   ]
  },
  {
   "cell_type": "code",
   "execution_count": 4,
   "metadata": {
    "ExecuteTime": {
     "end_time": "2018-10-26T09:09:43.230693Z",
     "start_time": "2018-10-26T09:09:43.146333Z"
    }
   },
   "outputs": [],
   "source": [
    "class arg:\n",
    "    def __init__(self):\n",
    "        self.in_dir = '/home/wang/workspace/data/rgbd_dataset_freiburg1_room/rgb'\n",
    "        self.out_dir = '/home/wang/workspace/data/rgbd_dataset_freiburg1_room/RFNet_DBOW/'\n",
    "        self.max_longer_edge = 640\n",
    "        \n",
    "config = arg()"
   ]
  },
  {
   "cell_type": "markdown",
   "metadata": {},
   "source": [
    "# Ready to feed input images"
   ]
  },
  {
   "cell_type": "code",
   "execution_count": 5,
   "metadata": {
    "ExecuteTime": {
     "end_time": "2018-10-26T09:17:11.070769Z",
     "start_time": "2018-10-26T09:09:47.154194Z"
    },
    "scrolled": true
   },
   "outputs": [
    {
     "name": "stderr",
     "output_type": "stream",
     "text": [
      "\r",
      "  0%|          | 0/1362 [00:00<?, ?it/s]"
     ]
    },
    {
     "name": "stdout",
     "output_type": "stream",
     "text": [
      "Found 1362 images...\n"
     ]
    },
    {
     "name": "stderr",
     "output_type": "stream",
     "text": [
      "/home/wang/workspace/RFNET/rfnet/model/rf_det_module.py:202: UserWarning: To copy construct from a tensor, it is recommended to use sourceTensor.clone().detach() or sourceTensor.clone().detach().requires_grad_(True), rather than tensor.new_tensor(sourceTensor).\n",
      "  None, None, :, :\n",
      "100%|██████████| 1362/1362 [07:24<00:00,  3.04it/s]"
     ]
    },
    {
     "name": "stdout",
     "output_type": "stream",
     "text": [
      "Done.\n"
     ]
    },
    {
     "name": "stderr",
     "output_type": "stream",
     "text": [
      "\n"
     ]
    }
   ],
   "source": [
    "img_paths = [x.path for x in os.scandir(config.in_dir) if x.name.endswith('.jpg') or x.name.endswith('.png')]\n",
    "print('Found {} images...'.format(len(img_paths)))\n",
    "\n",
    "if not os.path.exists(config.out_dir):\n",
    "    os.makedirs(config.out_dir)\n",
    "\n",
    "avg_elapsed_time = 0\n",
    "\n",
    "for img_path in tqdm.tqdm(img_paths):\n",
    "    photo = cv2.imread(img_path)\n",
    "    height, width = photo.shape[:2]\n",
    "    # Dump keypoint locations and their features\n",
    "    kp, des, _ ,scale,ori= model.detectAndCompute(img_path, device, (height, width))\n",
    "    out_kpts_path = os.path.join(config.out_dir, os.path.splitext(os.path.basename(img_path))[0]+'_kpts.txt')\n",
    "    out_feats_path = os.path.join(config.out_dir, os.path.splitext(os.path.basename(img_path))[0]+'_feats.txt')\n",
    "    out_kpts_ori_path = os.path.join(config.out_dir, os.path.splitext(os.path.basename(img_path))[0]+'_kpts_ori.txt')\n",
    "    out_kpts_scale_path = os.path.join(config.out_dir, os.path.splitext(os.path.basename(img_path))[0]+'_kpts_scale.txt')\n",
    "    \n",
    "    np.savetxt(out_kpts_path, kp[:,1:3].cpu().detach().numpy())\n",
    "    np.savetxt(out_feats_path, des.cpu().detach().numpy())\n",
    "    np.savetxt(out_kpts_ori_path, np.degrees(np.arctan((ori[:,1]/ori[:,0]).cpu().detach().numpy())))\n",
    "    np.savetxt(out_kpts_scale_path, scale.cpu().detach().numpy())\n",
    "    #np.savez(out_path, kpts=outs['kpts'], feats=outs['feats'], size=np.array([height, width]))\n",
    "print('Done.')"
   ]
  }
 ],
 "metadata": {
  "kernelspec": {
   "display_name": "Python 3",
   "language": "python",
   "name": "python3"
  },
  "language_info": {
   "codemirror_mode": {
    "name": "ipython",
    "version": 3
   },
   "file_extension": ".py",
   "mimetype": "text/x-python",
   "name": "python",
   "nbconvert_exporter": "python",
   "pygments_lexer": "ipython3",
   "version": "3.6.9"
  },
  "toc": {
   "base_numbering": 1,
   "nav_menu": {},
   "number_sections": true,
   "sideBar": true,
   "skip_h1_title": false,
   "title_cell": "Table of Contents",
   "title_sidebar": "Contents",
   "toc_cell": false,
   "toc_position": {},
   "toc_section_display": true,
   "toc_window_display": false
  },
  "varInspector": {
   "cols": {
    "lenName": 16,
    "lenType": 16,
    "lenVar": 40
   },
   "kernels_config": {
    "python": {
     "delete_cmd_postfix": "",
     "delete_cmd_prefix": "del ",
     "library": "var_list.py",
     "varRefreshCmd": "print(var_dic_list())"
    },
    "r": {
     "delete_cmd_postfix": ") ",
     "delete_cmd_prefix": "rm(",
     "library": "var_list.r",
     "varRefreshCmd": "cat(var_dic_list()) "
    }
   },
   "types_to_exclude": [
    "module",
    "function",
    "builtin_function_or_method",
    "instance",
    "_Feature"
   ],
   "window_display": false
  }
 },
 "nbformat": 4,
 "nbformat_minor": 2
}
